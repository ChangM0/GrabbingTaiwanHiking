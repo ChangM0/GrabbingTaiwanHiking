{
 "cells": [
  {
   "cell_type": "code",
   "execution_count": 8,
   "id": "2896aeda",
   "metadata": {},
   "outputs": [
    {
     "name": "stderr",
     "output_type": "stream",
     "text": [
      "/Users/m0chang/opt/anaconda3/envs/selenium/lib/python3.7/site-packages/ipykernel_launcher.py:4: DeprecationWarning: executable_path has been deprecated, please pass in a Service object\n",
      "  after removing the cwd from sys.path.\n"
     ]
    }
   ],
   "source": [
    "from selenium import webdriver\n",
    "from selenium.webdriver.common.by import By\n",
    "\n",
    "driver = webdriver.Chrome(\"/Users/m0chang/Downloads/chromedriver\")"
   ]
  },
  {
   "cell_type": "code",
   "execution_count": 9,
   "id": "9441d364",
   "metadata": {},
   "outputs": [
    {
     "ename": "UnexpectedAlertPresentException",
     "evalue": "Alert Text: 尚有6項同意事項未勾選\nMessage: unexpected alert open: {Alert text : 尚有6項同意事項未勾選}\n  (Session info: chrome=102.0.5005.61)\nStacktrace:\n0   chromedriver                        0x000000010ce76319 chromedriver + 5124889\n1   chromedriver                        0x000000010ce04f03 chromedriver + 4660995\n2   chromedriver                        0x000000010c9f3138 chromedriver + 393528\n3   chromedriver                        0x000000010ca4d474 chromedriver + 762996\n4   chromedriver                        0x000000010ca453d8 chromedriver + 730072\n5   chromedriver                        0x000000010ca1b5b9 chromedriver + 558521\n6   chromedriver                        0x000000010ca1c5e5 chromedriver + 562661\n7   chromedriver                        0x000000010ce48ded chromedriver + 4939245\n8   chromedriver                        0x000000010ce4d7c2 chromedriver + 4958146\n9   chromedriver                        0x000000010ce526bf chromedriver + 4978367\n10  chromedriver                        0x000000010ce4e2aa chromedriver + 4960938\n11  chromedriver                        0x000000010ce2889c chromedriver + 4806812\n12  chromedriver                        0x000000010ce67c48 chromedriver + 5065800\n13  chromedriver                        0x000000010ce67dcf chromedriver + 5066191\n14  chromedriver                        0x000000010ce7d525 chromedriver + 5154085\n15  libsystem_pthread.dylib             0x00007fff7323e109 _pthread_start + 148\n16  libsystem_pthread.dylib             0x00007fff73239b8b thread_start + 15\n",
     "output_type": "error",
     "traceback": [
      "\u001b[0;31m---------------------------------------------------------------------------\u001b[0m",
      "\u001b[0;31mUnexpectedAlertPresentException\u001b[0m           Traceback (most recent call last)",
      "\u001b[0;32m/var/folders/qv/vhkrhcdd2m7bjk0jlp3bw7j40000gn/T/ipykernel_18186/1936564013.py\u001b[0m in \u001b[0;36m<module>\u001b[0;34m\u001b[0m\n\u001b[1;32m      5\u001b[0m \u001b[0mbtn\u001b[0m\u001b[0;34m.\u001b[0m\u001b[0mclick\u001b[0m\u001b[0;34m(\u001b[0m\u001b[0;34m)\u001b[0m\u001b[0;34m\u001b[0m\u001b[0m\n\u001b[1;32m      6\u001b[0m \u001b[0;34m\u001b[0m\u001b[0m\n\u001b[0;32m----> 7\u001b[0;31m \u001b[0mdriver\u001b[0m\u001b[0;34m.\u001b[0m\u001b[0mclose\u001b[0m\u001b[0;34m(\u001b[0m\u001b[0;34m)\u001b[0m\u001b[0;34m\u001b[0m\u001b[0m\n\u001b[0m",
      "\u001b[0;32m~/opt/anaconda3/envs/selenium/lib/python3.7/site-packages/selenium/webdriver/remote/webdriver.py\u001b[0m in \u001b[0;36mclose\u001b[0;34m(self)\u001b[0m\n\u001b[1;32m    941\u001b[0m                 \u001b[0mdriver\u001b[0m\u001b[0;34m.\u001b[0m\u001b[0mclose\u001b[0m\u001b[0;34m(\u001b[0m\u001b[0;34m)\u001b[0m\u001b[0;34m\u001b[0m\u001b[0m\n\u001b[1;32m    942\u001b[0m         \"\"\"\n\u001b[0;32m--> 943\u001b[0;31m         \u001b[0mself\u001b[0m\u001b[0;34m.\u001b[0m\u001b[0mexecute\u001b[0m\u001b[0;34m(\u001b[0m\u001b[0mCommand\u001b[0m\u001b[0;34m.\u001b[0m\u001b[0mCLOSE\u001b[0m\u001b[0;34m)\u001b[0m\u001b[0;34m\u001b[0m\u001b[0m\n\u001b[0m\u001b[1;32m    944\u001b[0m \u001b[0;34m\u001b[0m\u001b[0m\n\u001b[1;32m    945\u001b[0m     \u001b[0;32mdef\u001b[0m \u001b[0mquit\u001b[0m\u001b[0;34m(\u001b[0m\u001b[0mself\u001b[0m\u001b[0;34m)\u001b[0m \u001b[0;34m->\u001b[0m \u001b[0;32mNone\u001b[0m\u001b[0;34m:\u001b[0m\u001b[0;34m\u001b[0m\u001b[0m\n",
      "\u001b[0;32m~/opt/anaconda3/envs/selenium/lib/python3.7/site-packages/selenium/webdriver/remote/webdriver.py\u001b[0m in \u001b[0;36mexecute\u001b[0;34m(self, driver_command, params)\u001b[0m\n\u001b[1;32m    428\u001b[0m         \u001b[0mresponse\u001b[0m \u001b[0;34m=\u001b[0m \u001b[0mself\u001b[0m\u001b[0;34m.\u001b[0m\u001b[0mcommand_executor\u001b[0m\u001b[0;34m.\u001b[0m\u001b[0mexecute\u001b[0m\u001b[0;34m(\u001b[0m\u001b[0mdriver_command\u001b[0m\u001b[0;34m,\u001b[0m \u001b[0mparams\u001b[0m\u001b[0;34m)\u001b[0m\u001b[0;34m\u001b[0m\u001b[0m\n\u001b[1;32m    429\u001b[0m         \u001b[0;32mif\u001b[0m \u001b[0mresponse\u001b[0m\u001b[0;34m:\u001b[0m\u001b[0;34m\u001b[0m\u001b[0m\n\u001b[0;32m--> 430\u001b[0;31m             \u001b[0mself\u001b[0m\u001b[0;34m.\u001b[0m\u001b[0merror_handler\u001b[0m\u001b[0;34m.\u001b[0m\u001b[0mcheck_response\u001b[0m\u001b[0;34m(\u001b[0m\u001b[0mresponse\u001b[0m\u001b[0;34m)\u001b[0m\u001b[0;34m\u001b[0m\u001b[0m\n\u001b[0m\u001b[1;32m    431\u001b[0m             response['value'] = self._unwrap_value(\n\u001b[1;32m    432\u001b[0m                 response.get('value', None))\n",
      "\u001b[0;32m~/opt/anaconda3/envs/selenium/lib/python3.7/site-packages/selenium/webdriver/remote/errorhandler.py\u001b[0m in \u001b[0;36mcheck_response\u001b[0;34m(self, response)\u001b[0m\n\u001b[1;32m    244\u001b[0m             \u001b[0;32melif\u001b[0m \u001b[0;34m'alert'\u001b[0m \u001b[0;32min\u001b[0m \u001b[0mvalue\u001b[0m\u001b[0;34m:\u001b[0m\u001b[0;34m\u001b[0m\u001b[0m\n\u001b[1;32m    245\u001b[0m                 \u001b[0malert_text\u001b[0m \u001b[0;34m=\u001b[0m \u001b[0mvalue\u001b[0m\u001b[0;34m[\u001b[0m\u001b[0;34m'alert'\u001b[0m\u001b[0;34m]\u001b[0m\u001b[0;34m.\u001b[0m\u001b[0mget\u001b[0m\u001b[0;34m(\u001b[0m\u001b[0;34m'text'\u001b[0m\u001b[0;34m)\u001b[0m\u001b[0;34m\u001b[0m\u001b[0m\n\u001b[0;32m--> 246\u001b[0;31m             \u001b[0;32mraise\u001b[0m \u001b[0mexception_class\u001b[0m\u001b[0;34m(\u001b[0m\u001b[0mmessage\u001b[0m\u001b[0;34m,\u001b[0m \u001b[0mscreen\u001b[0m\u001b[0;34m,\u001b[0m \u001b[0mstacktrace\u001b[0m\u001b[0;34m,\u001b[0m \u001b[0malert_text\u001b[0m\u001b[0;34m)\u001b[0m  \u001b[0;31m# type: ignore[call-arg]  # mypy is not smart enough here\u001b[0m\u001b[0;34m\u001b[0m\u001b[0m\n\u001b[0m\u001b[1;32m    247\u001b[0m         \u001b[0;32mraise\u001b[0m \u001b[0mexception_class\u001b[0m\u001b[0;34m(\u001b[0m\u001b[0mmessage\u001b[0m\u001b[0;34m,\u001b[0m \u001b[0mscreen\u001b[0m\u001b[0;34m,\u001b[0m \u001b[0mstacktrace\u001b[0m\u001b[0;34m)\u001b[0m\u001b[0;34m\u001b[0m\u001b[0m\n\u001b[1;32m    248\u001b[0m \u001b[0;34m\u001b[0m\u001b[0m\n",
      "\u001b[0;31mUnexpectedAlertPresentException\u001b[0m: Alert Text: 尚有6項同意事項未勾選\nMessage: unexpected alert open: {Alert text : 尚有6項同意事項未勾選}\n  (Session info: chrome=102.0.5005.61)\nStacktrace:\n0   chromedriver                        0x000000010ce76319 chromedriver + 5124889\n1   chromedriver                        0x000000010ce04f03 chromedriver + 4660995\n2   chromedriver                        0x000000010c9f3138 chromedriver + 393528\n3   chromedriver                        0x000000010ca4d474 chromedriver + 762996\n4   chromedriver                        0x000000010ca453d8 chromedriver + 730072\n5   chromedriver                        0x000000010ca1b5b9 chromedriver + 558521\n6   chromedriver                        0x000000010ca1c5e5 chromedriver + 562661\n7   chromedriver                        0x000000010ce48ded chromedriver + 4939245\n8   chromedriver                        0x000000010ce4d7c2 chromedriver + 4958146\n9   chromedriver                        0x000000010ce526bf chromedriver + 4978367\n10  chromedriver                        0x000000010ce4e2aa chromedriver + 4960938\n11  chromedriver                        0x000000010ce2889c chromedriver + 4806812\n12  chromedriver                        0x000000010ce67c48 chromedriver + 5065800\n13  chromedriver                        0x000000010ce67dcf chromedriver + 5066191\n14  chromedriver                        0x000000010ce7d525 chromedriver + 5154085\n15  libsystem_pthread.dylib             0x00007fff7323e109 _pthread_start + 148\n16  libsystem_pthread.dylib             0x00007fff73239b8b thread_start + 15\n"
     ]
    }
   ],
   "source": [
    "url = \"https://npm.cpami.gov.tw/apply_1_2.aspx?unit=e6dd4652-2d37-4346-8f5d-6e538353e0c2\"\n",
    "driver.get(url)\n",
    "\n",
    "agree_btn = driver.find_element(By.ID, \"ContentPlaceHolder1_btnagree\")\n",
    "agree_btn.click()\n",
    "\n",
    "driver.close()"
   ]
  },
  {
   "cell_type": "code",
   "execution_count": null,
   "id": "5038f42c",
   "metadata": {},
   "outputs": [],
   "source": []
  }
 ],
 "metadata": {
  "kernelspec": {
   "display_name": "Python 3 (ipykernel)",
   "language": "python",
   "name": "python3"
  },
  "language_info": {
   "codemirror_mode": {
    "name": "ipython",
    "version": 3
   },
   "file_extension": ".py",
   "mimetype": "text/x-python",
   "name": "python",
   "nbconvert_exporter": "python",
   "pygments_lexer": "ipython3",
   "version": "3.7.0"
  }
 },
 "nbformat": 4,
 "nbformat_minor": 5
}
